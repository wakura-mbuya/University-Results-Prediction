{
 "cells": [
  {
   "cell_type": "markdown",
   "metadata": {},
   "source": [
    "## Load the excel files into dataframes\n",
    "We will use year 1 main to do perform exploratory data analysis and visualization. I already have a script to load the results from the excel file.\n"
   ]
  },
  {
   "cell_type": "code",
   "execution_count": 1,
   "metadata": {},
   "outputs": [],
   "source": [
    "# Define function to load the data from the excel file into the dataframe\n",
    "def load_results(data):\n",
    "    '''\n",
    "    Load results from the raw excel files into pandas dataframe\n",
    "    \n",
    "    Params:\n",
    "        data: string \n",
    "        filename of the file containing the student results\n",
    "    \n",
    "    Returns: \n",
    "        Pandas.DataFrame\n",
    "    '''\n",
    "    df= pd.read_excel(data,  skiprows=11)    \n",
    "    df.drop(['S/N', 'NAME', 'RECOMMENDATIONS'], axis=1, inplace=True) #drop unwanted columns\n",
    "    df.dropna(inplace=True) #get rid of rows with null values\n",
    "    return df\n",
    "\n",
    "def save_results(filename, df):\n",
    "    \"\"\"\n",
    "    Save's the dataframe passed in a csv file\n",
    "    \n",
    "    Params:\n",
    "        filename: String\n",
    "            The filename to be used to save the data\n",
    "        df: Pandas.DataFrame\n",
    "            The dataframe containing the results to be saved\n",
    "    \"\"\"\n",
    "    df.to_csv(filename, index=False)\n",
    "    \n",
    "    "
   ]
  },
  {
   "cell_type": "code",
   "execution_count": 2,
   "metadata": {},
   "outputs": [],
   "source": [
    "# import the scripts to be used to load the results\n",
    "sys.path.append('../Scripts')\n",
    "from load_data import LoadResults\n",
    "\n"
   ]
  },
  {
   "cell_type": "code",
   "execution_count": 3,
   "metadata": {},
   "outputs": [
    {
     "data": {
      "text/html": [
       "<div>\n",
       "<style scoped>\n",
       "    .dataframe tbody tr th:only-of-type {\n",
       "        vertical-align: middle;\n",
       "    }\n",
       "\n",
       "    .dataframe tbody tr th {\n",
       "        vertical-align: top;\n",
       "    }\n",
       "\n",
       "    .dataframe thead th {\n",
       "        text-align: right;\n",
       "    }\n",
       "</style>\n",
       "<table border=\"1\" class=\"dataframe\">\n",
       "  <thead>\n",
       "    <tr style=\"text-align: right;\">\n",
       "      <th></th>\n",
       "      <th>REG NO</th>\n",
       "      <th>ECCI1101</th>\n",
       "      <th>ECCI1102</th>\n",
       "      <th>ECCI1103</th>\n",
       "      <th>ECCI1104</th>\n",
       "      <th>ECCI1105</th>\n",
       "      <th>ECCI1106</th>\n",
       "      <th>ECCI1107</th>\n",
       "      <th>ECCI1201</th>\n",
       "      <th>ECCI1202</th>\n",
       "      <th>...</th>\n",
       "      <th>ECCI1205</th>\n",
       "      <th>ECCI1206</th>\n",
       "      <th>ECCI1207</th>\n",
       "      <th>ECCI1208</th>\n",
       "      <th>UCCC1101</th>\n",
       "      <th>UCCC1102</th>\n",
       "      <th>UCCC1103</th>\n",
       "      <th>UCCC1201</th>\n",
       "      <th>AVG</th>\n",
       "      <th>REMARKS</th>\n",
       "    </tr>\n",
       "  </thead>\n",
       "  <tbody>\n",
       "    <tr>\n",
       "      <th>0</th>\n",
       "      <td>ECCI/05166/2013S</td>\n",
       "      <td>D</td>\n",
       "      <td>D</td>\n",
       "      <td>A</td>\n",
       "      <td>C</td>\n",
       "      <td>A</td>\n",
       "      <td>B</td>\n",
       "      <td>D</td>\n",
       "      <td>B</td>\n",
       "      <td>B</td>\n",
       "      <td>...</td>\n",
       "      <td>D</td>\n",
       "      <td>C</td>\n",
       "      <td>C</td>\n",
       "      <td>B</td>\n",
       "      <td>B</td>\n",
       "      <td>B</td>\n",
       "      <td>B</td>\n",
       "      <td>D</td>\n",
       "      <td>60.83</td>\n",
       "      <td>PASS</td>\n",
       "    </tr>\n",
       "    <tr>\n",
       "      <th>1</th>\n",
       "      <td>ECCI/05167/2013S</td>\n",
       "      <td>C</td>\n",
       "      <td>D</td>\n",
       "      <td>A</td>\n",
       "      <td>B</td>\n",
       "      <td>A</td>\n",
       "      <td>B</td>\n",
       "      <td>C</td>\n",
       "      <td>A</td>\n",
       "      <td>B</td>\n",
       "      <td>...</td>\n",
       "      <td>B</td>\n",
       "      <td>C</td>\n",
       "      <td>A</td>\n",
       "      <td>A</td>\n",
       "      <td>A</td>\n",
       "      <td>B</td>\n",
       "      <td>C</td>\n",
       "      <td>B</td>\n",
       "      <td>66.43</td>\n",
       "      <td>PASS</td>\n",
       "    </tr>\n",
       "    <tr>\n",
       "      <th>2</th>\n",
       "      <td>ECCI/05168/2013S</td>\n",
       "      <td>C</td>\n",
       "      <td>C</td>\n",
       "      <td>C</td>\n",
       "      <td>B</td>\n",
       "      <td>B</td>\n",
       "      <td>B</td>\n",
       "      <td>D</td>\n",
       "      <td>B</td>\n",
       "      <td>D</td>\n",
       "      <td>...</td>\n",
       "      <td>D</td>\n",
       "      <td>D</td>\n",
       "      <td>C</td>\n",
       "      <td>B</td>\n",
       "      <td>A</td>\n",
       "      <td>B</td>\n",
       "      <td>D</td>\n",
       "      <td>D</td>\n",
       "      <td>56.30</td>\n",
       "      <td>PASS</td>\n",
       "    </tr>\n",
       "    <tr>\n",
       "      <th>3</th>\n",
       "      <td>ECCI/05169/2013S</td>\n",
       "      <td>D</td>\n",
       "      <td>C</td>\n",
       "      <td>A</td>\n",
       "      <td>B</td>\n",
       "      <td>B</td>\n",
       "      <td>A</td>\n",
       "      <td>D</td>\n",
       "      <td>B</td>\n",
       "      <td>A</td>\n",
       "      <td>...</td>\n",
       "      <td>C</td>\n",
       "      <td>A</td>\n",
       "      <td>C</td>\n",
       "      <td>B</td>\n",
       "      <td>A</td>\n",
       "      <td>B</td>\n",
       "      <td>B</td>\n",
       "      <td>B</td>\n",
       "      <td>65.55</td>\n",
       "      <td>PASS</td>\n",
       "    </tr>\n",
       "    <tr>\n",
       "      <th>4</th>\n",
       "      <td>ECCI/05170/2013S</td>\n",
       "      <td>B</td>\n",
       "      <td>D</td>\n",
       "      <td>A</td>\n",
       "      <td>B</td>\n",
       "      <td>A</td>\n",
       "      <td>C</td>\n",
       "      <td>B</td>\n",
       "      <td>B</td>\n",
       "      <td>A</td>\n",
       "      <td>...</td>\n",
       "      <td>B</td>\n",
       "      <td>A</td>\n",
       "      <td>C</td>\n",
       "      <td>B</td>\n",
       "      <td>B</td>\n",
       "      <td>A</td>\n",
       "      <td>B</td>\n",
       "      <td>B</td>\n",
       "      <td>65.18</td>\n",
       "      <td>PASS</td>\n",
       "    </tr>\n",
       "  </tbody>\n",
       "</table>\n",
       "<p>5 rows × 22 columns</p>\n",
       "</div>"
      ],
      "text/plain": [
       "             REG NO ECCI1101 ECCI1102 ECCI1103 ECCI1104 ECCI1105 ECCI1106  \\\n",
       "0  ECCI/05166/2013S        D        D        A        C        A        B   \n",
       "1  ECCI/05167/2013S        C        D        A        B        A        B   \n",
       "2  ECCI/05168/2013S        C        C        C        B        B        B   \n",
       "3  ECCI/05169/2013S        D        C        A        B        B        A   \n",
       "4  ECCI/05170/2013S        B        D        A        B        A        C   \n",
       "\n",
       "  ECCI1107 ECCI1201 ECCI1202  ... ECCI1205 ECCI1206 ECCI1207 ECCI1208  \\\n",
       "0        D        B        B  ...        D        C        C        B   \n",
       "1        C        A        B  ...        B        C        A        A   \n",
       "2        D        B        D  ...        D        D        C        B   \n",
       "3        D        B        A  ...        C        A        C        B   \n",
       "4        B        B        A  ...        B        A        C        B   \n",
       "\n",
       "  UCCC1101 UCCC1102 UCCC1103 UCCC1201    AVG REMARKS  \n",
       "0        B        B        B        D  60.83    PASS  \n",
       "1        A        B        C        B  66.43    PASS  \n",
       "2        A        B        D        D  56.30    PASS  \n",
       "3        A        B        B        B  65.55    PASS  \n",
       "4        B        A        B        B  65.18    PASS  \n",
       "\n",
       "[5 rows x 22 columns]"
      ]
     },
     "execution_count": 3,
     "metadata": {},
     "output_type": "execute_result"
    }
   ],
   "source": [
    "# using thee load_data script to load the data from the excel file to a pandas DataFrame\n",
    "sys.path.append('../')\n",
    "loader = LoadResults()\n",
    "year1Main = loader.load_results(\"../data/year1Main.xlsx\")\n",
    "year1Main.head()"
   ]
  },
  {
   "cell_type": "markdown",
   "metadata": {},
   "source": [
    "## Exploratory data analysis\n",
    "In this step, I will the exploratory data analysis to learn the properties and features of the data. This step will help understand the datasets I have better and determine if its quality data. I will check for missing values in the datasets, the shape of the dataset and other attributes of the data. I will also plot various visualization plots to gain better insight of the data and how different features in the dataset are correlated"
   ]
  },
  {
   "cell_type": "code",
   "execution_count": 4,
   "metadata": {},
   "outputs": [
    {
     "data": {
      "text/plain": [
       "(15, 22)"
      ]
     },
     "execution_count": 4,
     "metadata": {},
     "output_type": "execute_result"
    }
   ],
   "source": [
    "# check the shape of the dataset\n",
    "year1Main.shape"
   ]
  },
  {
   "cell_type": "markdown",
   "metadata": {},
   "source": [
    "From the shape of the dataset, there were 15 students in year 1"
   ]
  },
  {
   "cell_type": "code",
   "execution_count": 5,
   "metadata": {},
   "outputs": [
    {
     "data": {
      "text/plain": [
       "['REG NO',\n",
       " 'ECCI1101',\n",
       " 'ECCI1102',\n",
       " 'ECCI1103',\n",
       " 'ECCI1104',\n",
       " 'ECCI1105',\n",
       " 'ECCI1106',\n",
       " 'ECCI1107',\n",
       " 'ECCI1201',\n",
       " 'ECCI1202',\n",
       " 'ECCI1203',\n",
       " 'ECCI1204',\n",
       " 'ECCI1205',\n",
       " 'ECCI1206',\n",
       " 'ECCI1207',\n",
       " 'ECCI1208',\n",
       " 'UCCC1101',\n",
       " 'UCCC1102',\n",
       " 'UCCC1103',\n",
       " 'UCCC1201',\n",
       " 'AVG',\n",
       " 'REMARKS']"
      ]
     },
     "execution_count": 5,
     "metadata": {},
     "output_type": "execute_result"
    }
   ],
   "source": [
    "# Get all the column names for year 1\n",
    "# from the column names, we can obtain year 1 units\n",
    "cols = year1Main.columns.to_list()\n",
    "cols"
   ]
  },
  {
   "cell_type": "code",
   "execution_count": 6,
   "metadata": {},
   "outputs": [
    {
     "data": {
      "text/plain": [
       "['ECCI1101',\n",
       " 'ECCI1102',\n",
       " 'ECCI1103',\n",
       " 'ECCI1104',\n",
       " 'ECCI1105',\n",
       " 'ECCI1106',\n",
       " 'ECCI1107',\n",
       " 'ECCI1201',\n",
       " 'ECCI1202',\n",
       " 'ECCI1203',\n",
       " 'ECCI1204',\n",
       " 'ECCI1205',\n",
       " 'ECCI1206',\n",
       " 'ECCI1207',\n",
       " 'ECCI1208',\n",
       " 'UCCC1101',\n",
       " 'UCCC1102',\n",
       " 'UCCC1103',\n",
       " 'UCCC1201']"
      ]
     },
     "execution_count": 6,
     "metadata": {},
     "output_type": "execute_result"
    }
   ],
   "source": [
    "# get year 1 units\n",
    "year1Units = cols[1:-2]\n",
    "year1Units"
   ]
  },
  {
   "cell_type": "code",
   "execution_count": 7,
   "metadata": {},
   "outputs": [
    {
     "data": {
      "text/plain": [
       "REG NO      0\n",
       "ECCI1101    0\n",
       "ECCI1102    0\n",
       "ECCI1103    0\n",
       "ECCI1104    0\n",
       "ECCI1105    0\n",
       "ECCI1106    0\n",
       "ECCI1107    0\n",
       "ECCI1201    0\n",
       "ECCI1202    0\n",
       "ECCI1203    0\n",
       "ECCI1204    0\n",
       "ECCI1205    0\n",
       "ECCI1206    0\n",
       "ECCI1207    0\n",
       "ECCI1208    0\n",
       "UCCC1101    0\n",
       "UCCC1102    0\n",
       "UCCC1103    0\n",
       "UCCC1201    0\n",
       "AVG         0\n",
       "REMARKS     0\n",
       "dtype: int64"
      ]
     },
     "execution_count": 7,
     "metadata": {},
     "output_type": "execute_result"
    }
   ],
   "source": [
    "# check for missing results\n",
    "year1Main.isna().sum()"
   ]
  },
  {
   "cell_type": "markdown",
   "metadata": {},
   "source": [
    "There are no missing results in this dataset"
   ]
  },
  {
   "cell_type": "code",
   "execution_count": 8,
   "metadata": {},
   "outputs": [
    {
     "data": {
      "text/plain": [
       "0"
      ]
     },
     "execution_count": 8,
     "metadata": {},
     "output_type": "execute_result"
    }
   ],
   "source": [
    "# check for duplicates\n",
    "year1Main.duplicated().sum()"
   ]
  },
  {
   "cell_type": "markdown",
   "metadata": {},
   "source": [
    "There are no duplicate values in year 1 dataset"
   ]
  },
  {
   "cell_type": "code",
   "execution_count": 9,
   "metadata": {},
   "outputs": [
    {
     "data": {
      "text/plain": [
       "Index(['count', 'mean', 'std', 'min', '25%', '50%', '75%', 'max'], dtype='object')"
      ]
     },
     "execution_count": 9,
     "metadata": {},
     "output_type": "execute_result"
    }
   ],
   "source": [
    "year1Main['AVG'].describe().index"
   ]
  },
  {
   "cell_type": "code",
   "execution_count": 10,
   "metadata": {},
   "outputs": [
    {
     "data": {
      "text/plain": [
       "(15, 22)"
      ]
     },
     "execution_count": 10,
     "metadata": {},
     "output_type": "execute_result"
    }
   ],
   "source": [
    "year1Main.shape"
   ]
  },
  {
   "cell_type": "markdown",
   "metadata": {},
   "source": [
    "## Visualization"
   ]
  },
  {
   "cell_type": "code",
   "execution_count": 11,
   "metadata": {},
   "outputs": [],
   "source": [
    "# visualize the performance in a single unit\n",
    "sys.path.append('../Scripts')\n",
    "from plot import Plot"
   ]
  },
  {
   "cell_type": "code",
   "execution_count": 12,
   "metadata": {},
   "outputs": [],
   "source": [
    "plot = Plot()"
   ]
  },
  {
   "cell_type": "code",
   "execution_count": 13,
   "metadata": {},
   "outputs": [
    {
     "data": {
      "image/png": "[encoded data removed]",
      "text/plain": [
       "<Figure size 1200x700 with 1 Axes>"
      ]
     },
     "metadata": {},
     "output_type": "display_data"
    }
   ],
   "source": [
    "plot.plot_count(year1Main,  'ECCI1104')"
   ]
  },
  {
   "cell_type": "code",
   "execution_count": 14,
   "metadata": {},
   "outputs": [
    {
     "data": {
      "image/png": "[encoded data removed]",
      "text/plain": [
       "<Figure size 600x300 with 1 Axes>"
      ]
     },
     "metadata": {},
     "output_type": "display_data"
    }
   ],
   "source": [
    "# visualize the average student's performance\n",
    "plot.plot_hist(year1Main,  'REMARKS', 'red')"
   ]
  },
  {
   "cell_type": "code",
   "execution_count": 15,
   "metadata": {},
   "outputs": [
    {
     "data": {
      "text/html": [
       "<div>\n",
       "<style scoped>\n",
       "    .dataframe tbody tr th:only-of-type {\n",
       "        vertical-align: middle;\n",
       "    }\n",
       "\n",
       "    .dataframe tbody tr th {\n",
       "        vertical-align: top;\n",
       "    }\n",
       "\n",
       "    .dataframe thead th {\n",
       "        text-align: right;\n",
       "    }\n",
       "</style>\n",
       "<table border=\"1\" class=\"dataframe\">\n",
       "  <thead>\n",
       "    <tr style=\"text-align: right;\">\n",
       "      <th></th>\n",
       "      <th>ECCI1101</th>\n",
       "      <th>ECCI1102</th>\n",
       "      <th>ECCI1103</th>\n",
       "      <th>ECCI1104</th>\n",
       "      <th>ECCI1105</th>\n",
       "      <th>ECCI1106</th>\n",
       "      <th>ECCI1107</th>\n",
       "      <th>ECCI1201</th>\n",
       "      <th>ECCI1202</th>\n",
       "      <th>ECCI1203</th>\n",
       "      <th>ECCI1204</th>\n",
       "      <th>ECCI1205</th>\n",
       "      <th>ECCI1206</th>\n",
       "      <th>ECCI1207</th>\n",
       "      <th>ECCI1208</th>\n",
       "      <th>UCCC1101</th>\n",
       "      <th>UCCC1102</th>\n",
       "      <th>UCCC1103</th>\n",
       "      <th>UCCC1201</th>\n",
       "    </tr>\n",
       "  </thead>\n",
       "  <tbody>\n",
       "    <tr>\n",
       "      <th>7</th>\n",
       "      <td>C</td>\n",
       "      <td>F</td>\n",
       "      <td>A</td>\n",
       "      <td>C</td>\n",
       "      <td>C</td>\n",
       "      <td>C</td>\n",
       "      <td>B</td>\n",
       "      <td>B</td>\n",
       "      <td>F</td>\n",
       "      <td>B</td>\n",
       "      <td>B</td>\n",
       "      <td>D</td>\n",
       "      <td>D</td>\n",
       "      <td>C</td>\n",
       "      <td>B</td>\n",
       "      <td>A</td>\n",
       "      <td>B</td>\n",
       "      <td>C</td>\n",
       "      <td>B</td>\n",
       "    </tr>\n",
       "  </tbody>\n",
       "</table>\n",
       "</div>"
      ],
      "text/plain": [
       "  ECCI1101 ECCI1102 ECCI1103 ECCI1104 ECCI1105 ECCI1106 ECCI1107 ECCI1201  \\\n",
       "7        C        F        A        C        C        C        B        B   \n",
       "\n",
       "  ECCI1202 ECCI1203 ECCI1204 ECCI1205 ECCI1206 ECCI1207 ECCI1208 UCCC1101  \\\n",
       "7        F        B        B        D        D        C        B        A   \n",
       "\n",
       "  UCCC1102 UCCC1103 UCCC1201  \n",
       "7        B        C        B  "
      ]
     },
     "execution_count": 15,
     "metadata": {},
     "output_type": "execute_result"
    }
   ],
   "source": [
    "# select the results of a single student\n",
    "import pandas as pd\n",
    "std = year1Main[ (year1Main['REG NO'] == 'ECCI/05173/2013S' )]\n",
    "std\n",
    "rslt = pd.DataFrame(std, columns = year1Units)\n",
    "rslt"
   ]
  },
  {
   "cell_type": "code",
   "execution_count": 16,
   "metadata": {},
   "outputs": [
    {
     "data": {
      "text/plain": [
       "<AxesSubplot: xlabel='Grade', ylabel='Count of Grades'>"
      ]
     },
     "execution_count": 16,
     "metadata": {},
     "output_type": "execute_result"
    },
    {
     "data": {
      "image/png": "[encoded data removed]",
      "text/plain": [
       "<Figure size 640x480 with 1 Axes>"
      ]
     },
     "metadata": {},
     "output_type": "display_data"
    }
   ],
   "source": [
    "row = rslt.iloc[0]\n",
    "row.value_counts().plot(kind='bar', ylabel='Count of Grades', xlabel='Grade')"
   ]
  },
  {
   "cell_type": "code",
   "execution_count": 17,
   "metadata": {},
   "outputs": [],
   "source": [
    "#year1Main"
   ]
  },
  {
   "cell_type": "code",
   "execution_count": 18,
   "metadata": {},
   "outputs": [],
   "source": [
    "# for testing script used for visualization\n",
    "sys.path.append('../Scripts')\n",
    "from preprocess import Preprocess\n",
    "preprocessor = Preprocess()"
   ]
  },
  {
   "cell_type": "code",
   "execution_count": 19,
   "metadata": {},
   "outputs": [
    {
     "data": {
      "text/plain": [
       "['ECCI1101',\n",
       " 'ECCI1102',\n",
       " 'ECCI1103',\n",
       " 'ECCI1104',\n",
       " 'ECCI1105',\n",
       " 'ECCI1106',\n",
       " 'ECCI1107',\n",
       " 'ECCI1201',\n",
       " 'ECCI1202',\n",
       " 'ECCI1203',\n",
       " 'ECCI1204',\n",
       " 'ECCI1205',\n",
       " 'ECCI1206',\n",
       " 'ECCI1207',\n",
       " 'ECCI1208',\n",
       " 'UCCC1101',\n",
       " 'UCCC1102',\n",
       " 'UCCC1103',\n",
       " 'UCCC1201']"
      ]
     },
     "execution_count": 19,
     "metadata": {},
     "output_type": "execute_result"
    }
   ],
   "source": [
    "preprocessor.get_units(year1Main)"
   ]
  },
  {
   "cell_type": "code",
   "execution_count": 20,
   "metadata": {},
   "outputs": [
    {
     "data": {
      "image/png": "[encoded data removed]",
      "text/plain": [
       "<Figure size 600x300 with 1 Axes>"
      ]
     },
     "metadata": {},
     "output_type": "display_data"
    }
   ],
   "source": [
    "preprocessor.class_performance_viz(year1Main)"
   ]
  },
  {
   "cell_type": "code",
   "execution_count": null,
   "metadata": {},
   "outputs": [],
   "source": []
  }
 ],
 "metadata": {
  "kernelspec": {
   "display_name": "Python 3.9.13 ('venv': venv)",
   "language": "python",
   "name": "python3"
  },
  "language_info": {
   "codemirror_mode": {
    "name": "ipython",
    "version": 3
   },
   "file_extension": ".py",
   "mimetype": "text/x-python",
   "name": "python",
   "nbconvert_exporter": "python",
   "pygments_lexer": "ipython3",
   "version": "3.9.13"
  },
  "orig_nbformat": 4,
  "vscode": {
   "interpreter": {
    "hash": "5f81015249425c08257cd43087167a3d5adb6d30df498e22603bc1a67cc93929"
   }
  }
 },
 "nbformat": 4,
 "nbformat_minor": 2
}
